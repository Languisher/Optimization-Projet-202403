{
 "cells": [
  {
   "cell_type": "code",
   "execution_count": 1,
   "metadata": {},
   "outputs": [],
   "source": [
    "import numpy as np\n",
    "import matplotlib.pyplot as plt"
   ]
  },
  {
   "cell_type": "code",
   "execution_count": 2,
   "metadata": {},
   "outputs": [],
   "source": [
    "from vehicle import Vehicle\n",
    "from route import Route\n",
    "from simulation import Simulation"
   ]
  },
  {
   "cell_type": "code",
   "execution_count": 3,
   "metadata": {},
   "outputs": [
    {
     "ename": "TypeError",
     "evalue": "cannot unpack non-iterable int object",
     "output_type": "error",
     "traceback": [
      "\u001b[0;31m---------------------------------------------------------------------------\u001b[0m",
      "\u001b[0;31mTypeError\u001b[0m                                 Traceback (most recent call last)",
      "Cell \u001b[0;32mIn[3], line 10\u001b[0m\n\u001b[1;32m      2\u001b[0m vehi \u001b[38;5;241m=\u001b[39m Vehicle(mass\u001b[38;5;241m=\u001b[39m\u001b[38;5;241m18000\u001b[39m,\n\u001b[1;32m      3\u001b[0m                frontal_area\u001b[38;5;241m=\u001b[39m\u001b[38;5;241m8.16\u001b[39m,\n\u001b[1;32m      4\u001b[0m                velocity_init\u001b[38;5;241m=\u001b[39m\u001b[38;5;241m20\u001b[39m,\n\u001b[1;32m      5\u001b[0m                energy_left\u001b[38;5;241m=\u001b[39m\u001b[38;5;241m30000\u001b[39m,\n\u001b[1;32m      6\u001b[0m                velocity_max\u001b[38;5;241m=\u001b[39m\u001b[38;5;241m120\u001b[39m,\n\u001b[1;32m      7\u001b[0m                energy_max\u001b[38;5;241m=\u001b[39m\u001b[38;5;241m30000\u001b[39m)\n\u001b[1;32m      9\u001b[0m \u001b[38;5;66;03m# Define the Route. Ensure the parameters for each segment are correct (distance, incline angle, and friction coefficient)\u001b[39;00m\n\u001b[0;32m---> 10\u001b[0m rout \u001b[38;5;241m=\u001b[39m Route(((\u001b[38;5;241m50\u001b[39m, \u001b[38;5;241m0\u001b[39m, \u001b[38;5;241m0.015\u001b[39m),  \u001b[38;5;66;03m# Each tuple represents a segment: (distance in meters, incline angle in degrees, friction coefficient)\u001b[39;00m\n\u001b[1;32m     11\u001b[0m               (\u001b[38;5;241m100\u001b[39m, \u001b[38;5;241m40\u001b[39m, \u001b[38;5;241m0.015\u001b[39m),\n\u001b[1;32m     12\u001b[0m               (\u001b[38;5;241m50\u001b[39m, \u001b[38;5;241m-\u001b[39m\u001b[38;5;241m10\u001b[39m, \u001b[38;5;241m0.015\u001b[39m), \u001b[38;5;241m1\u001b[39m))\n\u001b[1;32m     14\u001b[0m sim \u001b[38;5;241m=\u001b[39m Simulation(vehi, rout, distance_step\u001b[38;5;241m=\u001b[39m\u001b[38;5;241m1\u001b[39m)  \u001b[38;5;66;03m# Optionally, you can specify other parameters like drag_coefficient or efficiency\u001b[39;00m\n\u001b[1;32m     16\u001b[0m sim\u001b[38;5;241m.\u001b[39msimulate()\n",
      "File \u001b[0;32m~/Desktop/桌面 - 林楠的MacBook Pro/Optimization-Projet-202403/final-edition/route.py:20\u001b[0m, in \u001b[0;36mRoute.__init__\u001b[0;34m(self, segments, delta_s)\u001b[0m\n\u001b[1;32m     18\u001b[0m cumulative_distance \u001b[38;5;241m=\u001b[39m \u001b[38;5;241m0\u001b[39m\n\u001b[1;32m     19\u001b[0m \u001b[38;5;28;01mfor\u001b[39;00m segment \u001b[38;5;129;01min\u001b[39;00m segments:\n\u001b[0;32m---> 20\u001b[0m     segment_distance, segment_inclination_angle, mu \u001b[38;5;241m=\u001b[39m segment\n\u001b[1;32m     21\u001b[0m     \u001b[38;5;28mself\u001b[39m\u001b[38;5;241m.\u001b[39minclination_angle_list\u001b[38;5;241m.\u001b[39mappend(segment_inclination_angle)\n\u001b[1;32m     22\u001b[0m     \u001b[38;5;28mself\u001b[39m\u001b[38;5;241m.\u001b[39mmu_list\u001b[38;5;241m.\u001b[39mappend(mu)\n",
      "\u001b[0;31mTypeError\u001b[0m: cannot unpack non-iterable int object"
     ]
    }
   ],
   "source": [
    "# Initialize the Vehicle with appropriate parameters\n",
    "vehi = Vehicle(mass=18000,\n",
    "               frontal_area=8.16,\n",
    "               velocity_init=20,\n",
    "               energy_left=30000,\n",
    "               velocity_max=120,\n",
    "               energy_max=30000)\n",
    "\n",
    "# Define the Route. Ensure the parameters for each segment are correct (distance, incline angle, and friction coefficient)\n",
    "rout = Route(((50, 0, 0.015),  # Each tuple represents a segment: (distance in meters, incline angle in degrees, friction coefficient)\n",
    "              (100, 40, 0.015),\n",
    "              (50, -10, 0.015)), delta_s=1)\n",
    "\n",
    "sim = Simulation(vehi, rout, distance_step=1)  # Optionally, you can specify other parameters like drag_coefficient or efficiency\n",
    "\n",
    "sim.simulate()\n",
    "\n",
    "sim.plot_results()\n"
   ]
  }
 ],
 "metadata": {
  "kernelspec": {
   "display_name": "base",
   "language": "python",
   "name": "python3"
  },
  "language_info": {
   "codemirror_mode": {
    "name": "ipython",
    "version": 3
   },
   "file_extension": ".py",
   "mimetype": "text/x-python",
   "name": "python",
   "nbconvert_exporter": "python",
   "pygments_lexer": "ipython3",
   "version": "3.11.7"
  }
 },
 "nbformat": 4,
 "nbformat_minor": 2
}
